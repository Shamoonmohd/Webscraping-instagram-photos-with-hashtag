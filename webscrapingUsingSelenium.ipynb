{
 "cells": [
  {
   "cell_type": "code",
   "execution_count": 1,
   "id": "7701a868",
   "metadata": {},
   "outputs": [],
   "source": [
    "#imports here\n",
    "from selenium import webdriver\n",
    "from selenium.webdriver.common.keys import Keys\n",
    "from selenium.webdriver.support import expected_conditions as EC\n",
    "from selenium.webdriver.common.by import By\n",
    "from selenium.webdriver.support.wait import WebDriverWait\n",
    "import time\n",
    "import os\n",
    "import wget"
   ]
  },
  {
   "cell_type": "code",
   "execution_count": 8,
   "id": "a1b18161",
   "metadata": {},
   "outputs": [
    {
     "name": "stderr",
     "output_type": "stream",
     "text": [
      "/var/folders/zq/6krbydk95fqf576qsg1xn9840000gn/T/ipykernel_18074/2398100363.py:1: DeprecationWarning: executable_path has been deprecated, please pass in a Service object\n",
      "  driver = webdriver.Chrome('/Users/mohammadshamoon/Webscraping/Webscraping-instagram-photos-with-hashtag/chromedriver')\n"
     ]
    }
   ],
   "source": [
    "driver = webdriver.Chrome('/Users/mohammadshamoon/Webscraping/Webscraping-instagram-photos-with-hashtag/chromedriver')\n"
   ]
  },
  {
   "cell_type": "code",
   "execution_count": 9,
   "id": "943244ab",
   "metadata": {},
   "outputs": [],
   "source": [
    "#open the webpage\n",
    "driver.get(\"http://www.instagram.com\")\n",
    "#target username\n",
    "username = WebDriverWait(driver, 10).until(EC.element_to_be_clickable((By.CSS_SELECTOR, \"input[name='username']\")))\n",
    "password = WebDriverWait(driver, 10).until(EC.element_to_be_clickable((By.CSS_SELECTOR, \"input[name='password']\")))\n",
    "\n",
    "#enter username and password\n",
    "username.clear()\n",
    "username.send_keys(\"shamoonmohd@hotmail.com\")\n",
    "password.clear()\n",
    "password.send_keys(\"9675664132@\")\n",
    "\n",
    "#target the login button and click it\n",
    "button = WebDriverWait(driver, 2).until(EC.element_to_be_clickable((By.CSS_SELECTOR, \"button[type='submit']\"))).click()\n",
    "\n",
    "#We are logged in!"
   ]
  },
  {
   "cell_type": "code",
   "execution_count": 10,
   "id": "b9206cde",
   "metadata": {},
   "outputs": [],
   "source": [
    "time.sleep(5)\n",
    "alert = WebDriverWait(driver, 15).until(EC.element_to_be_clickable((By.XPATH, '//button[contains(text(), \"Not Now\")]'))).click()\n",
    "#alert2 = WebDriverWait(driver, 15).until(EC.element_to_be_clickable((By.XPATH, '//button[contains(text(), \"Not Now\")]'))).click()"
   ]
  },
  {
   "cell_type": "code",
   "execution_count": 11,
   "id": "81b7032e",
   "metadata": {},
   "outputs": [],
   "source": [
    "#target the search input field\n",
    "searchbox = WebDriverWait(driver, 10).until(EC.element_to_be_clickable((By.XPATH, \"//input[@placeholder='Search']\")))\n",
    "searchbox.clear()\n",
    "\n",
    "#search for the hashtag cat\n",
    "keyword = \"#cat\"\n",
    "searchbox.send_keys(keyword)\n",
    " \n",
    "#FIXING THE DOUBLE ENTER\n",
    "time.sleep(5) # Wait for 5 seconds\n",
    "my_link = WebDriverWait(driver, 10).until(EC.element_to_be_clickable((By.XPATH, \"//a[contains(@href, '/\" + keyword[1:] + \"/')]\")))\n",
    "my_link.click()"
   ]
  },
  {
   "cell_type": "code",
   "execution_count": 12,
   "id": "6350d18e",
   "metadata": {},
   "outputs": [],
   "source": [
    "#scroll down 2 times\n",
    "#increase the range to sroll more\n",
    "n_scrolls = 2\n",
    "for j in range(0, n_scrolls):\n",
    "    driver.execute_script(\"window.scrollTo(0, document.body.scrollHeight);\")\n",
    "    time.sleep(5)"
   ]
  },
  {
   "cell_type": "code",
   "execution_count": 13,
   "id": "3243f936",
   "metadata": {},
   "outputs": [
    {
     "name": "stderr",
     "output_type": "stream",
     "text": [
      "/var/folders/zq/6krbydk95fqf576qsg1xn9840000gn/T/ipykernel_18074/2795686979.py:2: DeprecationWarning: find_elements_by_tag_name is deprecated. Please use find_elements(by=By.TAG_NAME, value=name) instead\n",
      "  anchors = driver.find_elements_by_tag_name('a')\n"
     ]
    },
    {
     "name": "stdout",
     "output_type": "stream",
     "text": [
      "Found 51 links to images\n"
     ]
    },
    {
     "data": {
      "text/plain": [
       "['https://www.instagram.com/p/CeRXlaVq99z/',\n",
       " 'https://www.instagram.com/p/CeRfoDupLAc/',\n",
       " 'https://www.instagram.com/p/CeRj-5CKwt_/',\n",
       " 'https://www.instagram.com/p/CeRZAO4IlaR/',\n",
       " 'https://www.instagram.com/p/CeQ52xJJQF4/']"
      ]
     },
     "execution_count": 13,
     "metadata": {},
     "output_type": "execute_result"
    }
   ],
   "source": [
    "#target all the link elements on the page\n",
    "anchors = driver.find_elements_by_tag_name('a')\n",
    "anchors = [a.get_attribute('href') for a in anchors]\n",
    "#narrow down all links to image links only\n",
    "anchors = [a for a in anchors if str(a).startswith(\"https://www.instagram.com/p/\")]\n",
    "\n",
    "print('Found ' + str(len(anchors)) + ' links to images')\n",
    "anchors[:5]\n"
   ]
  },
  {
   "cell_type": "code",
   "execution_count": 14,
   "id": "87aca792",
   "metadata": {},
   "outputs": [
    {
     "name": "stderr",
     "output_type": "stream",
     "text": [
      "/var/folders/zq/6krbydk95fqf576qsg1xn9840000gn/T/ipykernel_18074/384343785.py:7: DeprecationWarning: find_elements_by_tag_name is deprecated. Please use find_elements(by=By.TAG_NAME, value=name) instead\n",
      "  img = driver.find_elements_by_tag_name('img')\n"
     ]
    },
    {
     "data": {
      "text/plain": [
       "['https://scontent-lga3-1.cdninstagram.com/v/t51.2885-19/130441708_424870635543839_7758286772083922087_n.jpg?stp=dst-jpg_s150x150&_nc_ht=scontent-lga3-1.cdninstagram.com&_nc_cat=111&_nc_ohc=zyEFYl8tsT0AX8v1dFQ&edm=ALQROFkBAAAA&ccb=7-5&oh=00_AT--L44Djnj-jY_9dKwu90G_H7vEf6qmKQSCcsW0qXepeA&oe=629E1DAC&_nc_sid=30a2ef',\n",
       " 'https://scontent-lga3-1.cdninstagram.com/v/t51.2885-15/285269106_679933929773110_1387132933693703407_n.jpg?stp=dst-jpg_e35&_nc_ht=scontent-lga3-1.cdninstagram.com&_nc_cat=110&_nc_ohc=tnAVBpXuURgAX94yN14&tn=C7ovmkjp-SIlV2x1&edm=ALQROFkBAAAA&ccb=7-5&ig_cache_key=Mjg1MTE5OTEyNzAwNjg3OTUzNA%3D%3D.2-ccb7-5&oh=00_AT-rK7l5mKu3y-dkrKAATvxCt7ASQCPeydXG-mWQIajYBQ&oe=629EB07C&_nc_sid=30a2ef',\n",
       " 'https://scontent-lga3-1.cdninstagram.com/v/t51.2885-15/285193837_462290795706269_6667229050165145487_n.webp?stp=dst-jpg_e35&_nc_ht=scontent-lga3-1.cdninstagram.com&_nc_cat=105&_nc_ohc=bIF4yy927YQAX8Sefyy&edm=ALQROFkBAAAA&ccb=7-5&ig_cache_key=Mjg1MTIxODI4Mjk1NTYyMDA1MA%3D%3D.2-ccb7-5&oh=00_AT_hOBoM27hTYoZrmo4b2nCn5AiBPpy0csiuDEBV7M74bA&oe=629E14CE&_nc_sid=30a2ef',\n",
       " 'https://scontent-lga3-1.cdninstagram.com/v/t51.2885-19/280314060_111439438231437_395069206214767309_n.jpg?stp=dst-jpg_s150x150&_nc_ht=scontent-lga3-1.cdninstagram.com&_nc_cat=1&_nc_ohc=W_U8lVGWb_QAX-4O7SA&edm=APU89FABAAAA&ccb=7-5&oh=00_AT_6UDNm98JMVeZLBKV39gMcfm_B9TnNjW2m-GcQ0sKyyg&oe=629DDFF5&_nc_sid=86f79a',\n",
       " 'https://scontent-lga3-1.cdninstagram.com/v/t51.2885-19/241768907_295563792331095_7781643360239280715_n.jpg?stp=dst-jpg_s150x150&_nc_ht=scontent-lga3-1.cdninstagram.com&_nc_cat=103&_nc_ohc=SxCwVsKa2HUAX99Hony&edm=ALQROFkBAAAA&ccb=7-5&oh=00_AT-aK0a6E7VVeUfuMZrtC3U-h90jkwccyPbzlfyF_jOyZA&oe=629EED6E&_nc_sid=30a2ef']"
      ]
     },
     "execution_count": 14,
     "metadata": {},
     "output_type": "execute_result"
    }
   ],
   "source": [
    "images = []\n",
    "\n",
    "#follow each image link and extract only image at index=1\n",
    "for a in anchors:\n",
    "    driver.get(a)\n",
    "    time.sleep(5)\n",
    "    img = driver.find_elements_by_tag_name('img')\n",
    "    img = [i.get_attribute('src') for i in img]\n",
    "    images.append(img[1])\n",
    "    \n",
    "images[:5] \n"
   ]
  },
  {
   "cell_type": "code",
   "execution_count": 15,
   "id": "fb6e292b",
   "metadata": {},
   "outputs": [
    {
     "data": {
      "text/plain": [
       "'/Users/mohammadshamoon/Webscraping/Webscraping-instagram-photos-with-hashtag/cats'"
      ]
     },
     "execution_count": 15,
     "metadata": {},
     "output_type": "execute_result"
    }
   ],
   "source": [
    "import os\n",
    "import wget\n",
    "\n",
    "path = os.getcwd()\n",
    "path = os.path.join(path, keyword[1:] + \"s\")\n",
    "\n",
    "#create the directory\n",
    "os.mkdir(path)\n",
    "\n",
    "path"
   ]
  },
  {
   "cell_type": "code",
   "execution_count": 32,
   "id": "92b9bf2c",
   "metadata": {},
   "outputs": [
    {
     "name": "stdout",
     "output_type": "stream",
     "text": [
      "100% [............................................................] 6065 / 6065error\n",
      "100% [............................................................] 5441 / 5441"
     ]
    }
   ],
   "source": [
    "\n",
    "counter = 0\n",
    "for image in images:\n",
    "    save_as = os.path.join(path, keyword[1:] + str(counter) + '.jpg')\n",
    "    try:\n",
    "        wget.download(image, save_as)\n",
    "    except:\n",
    "        print(\"error\")\n",
    "    counter += 1\n",
    "\n",
    "\n",
    "# import urllib.request\n",
    "# import re\n",
    "# counter = 0\n",
    "# for image in images:\n",
    "#     save_as = os.path.join(path, keyword[1:] + str(counter) + '.jpg')\n",
    "#     save_as = re.sub('[^a-zA-Z]', '', str(save_as))\n",
    "#     urllib.request.urlretrieve(image, save_as)\n",
    "#     counter+=1\n"
   ]
  },
  {
   "cell_type": "code",
   "execution_count": 33,
   "id": "9a1fdcec",
   "metadata": {},
   "outputs": [
    {
     "data": {
      "text/plain": [
       "51"
      ]
     },
     "execution_count": 33,
     "metadata": {},
     "output_type": "execute_result"
    }
   ],
   "source": []
  },
  {
   "cell_type": "code",
   "execution_count": null,
   "id": "d99ff73f",
   "metadata": {},
   "outputs": [],
   "source": []
  }
 ],
 "metadata": {
  "kernelspec": {
   "display_name": "Python 3 (ipykernel)",
   "language": "python",
   "name": "python3"
  },
  "language_info": {
   "codemirror_mode": {
    "name": "ipython",
    "version": 3
   },
   "file_extension": ".py",
   "mimetype": "text/x-python",
   "name": "python",
   "nbconvert_exporter": "python",
   "pygments_lexer": "ipython3",
   "version": "3.8.12"
  }
 },
 "nbformat": 4,
 "nbformat_minor": 5
}
